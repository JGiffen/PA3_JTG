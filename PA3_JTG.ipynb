{
 "cells": [
  {
   "cell_type": "markdown",
   "id": "c3ab4e99",
   "metadata": {},
   "source": [
    "# Programming Assignment 3 on lists and tuple\n",
    "## Jeremy Giffen\n",
    "## CS-150-01"
   ]
  },
  {
   "cell_type": "markdown",
   "id": "d54665e3",
   "metadata": {},
   "source": [
    "### Task 1: List Operations"
   ]
  },
  {
   "cell_type": "code",
   "execution_count": 7,
   "id": "eeecc886",
   "metadata": {},
   "outputs": [
    {
     "name": "stdout",
     "output_type": "stream",
     "text": [
      "[10, 20, 30, 40, 50]\n"
     ]
    }
   ],
   "source": [
    "numbers=[10,20,30,40,50]\n",
    "print(numbers)"
   ]
  },
  {
   "cell_type": "code",
   "execution_count": 2,
   "id": "10eea67e",
   "metadata": {},
   "outputs": [],
   "source": [
    "numbers.append(60)"
   ]
  },
  {
   "cell_type": "code",
   "execution_count": 3,
   "id": "03903667",
   "metadata": {},
   "outputs": [],
   "source": [
    "numbers.insert(0,5)"
   ]
  },
  {
   "cell_type": "code",
   "execution_count": 5,
   "id": "8eaab42f",
   "metadata": {},
   "outputs": [],
   "source": [
    "del numbers[1]"
   ]
  },
  {
   "cell_type": "code",
   "execution_count": 6,
   "id": "3edeb972",
   "metadata": {},
   "outputs": [
    {
     "name": "stdout",
     "output_type": "stream",
     "text": [
      "Modified numbers list:  [5, 20, 30, 40, 50, 60]\n"
     ]
    }
   ],
   "source": [
    "print(f\"Modified numbers list: \", numbers)"
   ]
  },
  {
   "cell_type": "markdown",
   "id": "a543c671",
   "metadata": {},
   "source": [
    "### Task 2: Tuple Basics"
   ]
  },
  {
   "cell_type": "code",
   "execution_count": 11,
   "id": "1acc23cc",
   "metadata": {},
   "outputs": [],
   "source": [
    "days=(\"Monday\",\"Tuesday\",\"Wednesday\",\"Thursday\",\"Friday\",\"Saturday\",\"Sunday\")"
   ]
  },
  {
   "cell_type": "code",
   "execution_count": 16,
   "id": "bb166b3a",
   "metadata": {},
   "outputs": [
    {
     "data": {
      "text/plain": [
       "'Wednesday'"
      ]
     },
     "execution_count": 16,
     "metadata": {},
     "output_type": "execute_result"
    }
   ],
   "source": [
    "days[2]"
   ]
  },
  {
   "cell_type": "code",
   "execution_count": 18,
   "id": "188911b5",
   "metadata": {},
   "outputs": [
    {
     "ename": "AttributeError",
     "evalue": "'tuple' object has no attribute 'pop'",
     "output_type": "error",
     "traceback": [
      "\u001b[0;31m---------------------------------------------------------------------------\u001b[0m",
      "\u001b[0;31mAttributeError\u001b[0m                            Traceback (most recent call last)",
      "Cell \u001b[0;32mIn[18], line 1\u001b[0m\n\u001b[0;32m----> 1\u001b[0m days\u001b[38;5;241m.\u001b[39mpop[\u001b[38;5;241m1\u001b[39m]\n",
      "\u001b[0;31mAttributeError\u001b[0m: 'tuple' object has no attribute 'pop'"
     ]
    }
   ],
   "source": [
    "days.pop[1] \n",
    "# I was going to pop the second element and insert \"Funday\" but tuples cannot use commands like .pop, .insert, and .append"
   ]
  },
  {
   "cell_type": "markdown",
   "id": "1774dc6e",
   "metadata": {},
   "source": [
    "### Task 3: Reversing Sublist"
   ]
  },
  {
   "cell_type": "code",
   "execution_count": 19,
   "id": "2a9ebb41",
   "metadata": {},
   "outputs": [],
   "source": [
    "alphabet=[\"a\",\"b\",\"c\",\"d\",\"e\",\"f\",\"g\",\"h\",\"i\",\"j\",\"k\",\"l\",\"m\",\"n\",\"o\",\"p\",\"q\",\"r\",\"s\",\"t\",\"u\",\"v\",\"w\",\"x\",\"y\",\"z\"]"
   ]
  },
  {
   "cell_type": "code",
   "execution_count": 26,
   "id": "c6443e89",
   "metadata": {},
   "outputs": [
    {
     "data": {
      "text/plain": [
       "['p', 'o', 'n', 'm', 'l', 'k']"
      ]
     },
     "execution_count": 26,
     "metadata": {},
     "output_type": "execute_result"
    }
   ],
   "source": [
    "alphabet[15:9:-1]"
   ]
  },
  {
   "cell_type": "code",
   "execution_count": 28,
   "id": "049d0917",
   "metadata": {},
   "outputs": [
    {
     "data": {
      "text/plain": [
       "['k', 'l', 'm', 'n', 'o', 'p']"
      ]
     },
     "execution_count": 28,
     "metadata": {},
     "output_type": "execute_result"
    }
   ],
   "source": [
    "alphabet[10:16]"
   ]
  },
  {
   "cell_type": "markdown",
   "id": "877833a7",
   "metadata": {},
   "source": [
    "### Task 4: Tuple Packing and Unpacking"
   ]
  },
  {
   "cell_type": "code",
   "execution_count": 31,
   "id": "6a645c8f",
   "metadata": {},
   "outputs": [],
   "source": [
    "student=(\"Jeremy\",\"Giffen\",20,\"math\")"
   ]
  },
  {
   "cell_type": "code",
   "execution_count": 34,
   "id": "5e78a24a",
   "metadata": {},
   "outputs": [
    {
     "name": "stdout",
     "output_type": "stream",
     "text": [
      "First name Jeremy\n",
      "Last name Giffen\n",
      "age 20\n",
      "Favorite subject math\n"
     ]
    }
   ],
   "source": [
    "First_name, Last_name, age, Favorite_subject=student\n",
    "print(\"First name\",First_name)\n",
    "print(\"Last name\",Last_name)\n",
    "print(\"age\",age)\n",
    "print(\"Favorite subject\",Favorite_subject)"
   ]
  },
  {
   "cell_type": "markdown",
   "id": "3bd3fbfd",
   "metadata": {},
   "source": [
    "### Task 5: Shopping List"
   ]
  },
  {
   "cell_type": "code",
   "execution_count": 35,
   "id": "a33e8c3c",
   "metadata": {},
   "outputs": [],
   "source": [
    "shopping_list=[\"Bread\",\"Milk\",\"Candy\",\"Water\",\"Fruit\"]"
   ]
  },
  {
   "cell_type": "code",
   "execution_count": 36,
   "id": "16b0f707",
   "metadata": {},
   "outputs": [
    {
     "data": {
      "text/plain": [
       "5"
      ]
     },
     "execution_count": 36,
     "metadata": {},
     "output_type": "execute_result"
    }
   ],
   "source": [
    "len(shopping_list)"
   ]
  },
  {
   "cell_type": "code",
   "execution_count": 37,
   "id": "3e9f53e2",
   "metadata": {},
   "outputs": [],
   "source": [
    "shopping_list[2]='Cake'"
   ]
  },
  {
   "cell_type": "code",
   "execution_count": 38,
   "id": "fa062da5",
   "metadata": {},
   "outputs": [
    {
     "name": "stdout",
     "output_type": "stream",
     "text": [
      "['Bread', 'Milk', 'Cake', 'Water', 'Fruit']\n"
     ]
    }
   ],
   "source": [
    "print(shopping_list)"
   ]
  },
  {
   "cell_type": "code",
   "execution_count": 41,
   "id": "b7f8dcd2",
   "metadata": {},
   "outputs": [
    {
     "name": "stdout",
     "output_type": "stream",
     "text": [
      "['Bread', 'Cake', 'Fruit', 'Milk', 'Water']\n"
     ]
    }
   ],
   "source": [
    "shopping_list.sort()\n",
    "print(shopping_list)"
   ]
  },
  {
   "cell_type": "code",
   "execution_count": null,
   "id": "176dc1e8",
   "metadata": {},
   "outputs": [],
   "source": []
  }
 ],
 "metadata": {
  "kernelspec": {
   "display_name": "Python 3 (ipykernel)",
   "language": "python",
   "name": "python3"
  },
  "language_info": {
   "codemirror_mode": {
    "name": "ipython",
    "version": 3
   },
   "file_extension": ".py",
   "mimetype": "text/x-python",
   "name": "python",
   "nbconvert_exporter": "python",
   "pygments_lexer": "ipython3",
   "version": "3.11.4"
  }
 },
 "nbformat": 4,
 "nbformat_minor": 5
}
